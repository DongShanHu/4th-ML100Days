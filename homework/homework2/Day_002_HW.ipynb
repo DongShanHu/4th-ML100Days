{
 "cells": [
  {
   "cell_type": "markdown",
   "metadata": {},
   "source": [
    "[作業目標]\n",
    "了解機器學習適合應用的領域與範疇。\n",
    "\n",
    "[作業重點]\n",
    "透過瞭解機器學習的運作方式，找出非常適用機器學習應用的領域及其原因\n",
    "\n",
    "作業\n",
    "請找出一個你認為機器學習可以發光發熱的領域並闡述原因?"
   ]
  },
  {
   "cell_type": "code",
   "execution_count": null,
   "metadata": {},
   "outputs": [],
   "source": [
    "金融產業一直是一個目前國家可以發展機器學習的好地方，在國內擁有資金豐富，且資源跟人才都蠻投入的地方\n",
    "足以跟科技業或代工製造業這些大公司媲美\n",
    "而要如何進行呢，目前bank4.0都是以個人化金融形式呈現\n",
    "當一隻手機就足以完成個人金融，是非常方便的\n",
    "未來我認為機器學習能夠進行投資分析、市場分析、國家金融政策等\n",
    "而內部方面，資訊不對稱經常是內部員工最大的問題\n",
    "可以透過聊天機器人 解決知識庫問題 甚至是內部人員強化"
   ]
  }
 ],
 "metadata": {
  "kernelspec": {
   "display_name": "Python 3",
   "language": "python",
   "name": "python3"
  },
  "language_info": {
   "codemirror_mode": {
    "name": "ipython",
    "version": 3
   },
   "file_extension": ".py",
   "mimetype": "text/x-python",
   "name": "python",
   "nbconvert_exporter": "python",
   "pygments_lexer": "ipython3",
   "version": "3.6.5"
  }
 },
 "nbformat": 4,
 "nbformat_minor": 2
}
