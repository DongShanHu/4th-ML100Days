{
 "cells": [
  {
   "cell_type": "markdown",
   "metadata": {},
   "source": [
    "[作業目標]\n",
    "持續接觸有關機器學習的相關專案與最新技術\n",
    "\n",
    "[作業重點]\n",
    "透過觀察頂尖公司的機器學習文章，來了解各公司是怎麼應用機器學習在實際的專案上\n",
    "\n",
    "[作業]\n",
    "今天的作業希望大家能夠看看全球機器學習巨頭們在做的機器學習專案。以 google 為例，下圖是 Google 內部專案使用機器學習的數量，隨著時間進展，現在早已超過 2000 個專案在使用機器學習。\n",
    "\n"
   ]
  },
  {
   "cell_type": "markdown",
   "metadata": {},
   "source": [
    "https://www.jiqizhixin.com/articles/2020-02-24-7\n",
    "智能质检升级换代：为什么“关键词”不够用了\n"
   ]
  },
  {
   "cell_type": "code",
   "execution_count": null,
   "metadata": {},
   "outputs": [],
   "source": [
    "    此blog 主要是講語意分析也可稱為自然語言學習，重點就是教電腦讀懂人類說的話\n",
    "且他分別用關鍵詞+正則  與語意點+機器學習作為比較\n",
    "而關鍵詞最大的問題就在於 詞袋的量侷限於單一領域\n",
    "若是該領域變化比較大，像是詐騙集團的詐騙話術 就比較難以作區分\n",
    "而技術部分XLNet 模型 由循環知能的創始人與google、卡麥隆一起建立超長序列能力，能夠簡單理解長句子分析\n",
    "    而近年來BERT模型的進展也是相當令人期待，能夠打破過去詞袋、詞頻 等問題，相當令人期待"
   ]
  }
 ],
 "metadata": {
  "kernelspec": {
   "display_name": "Python 3",
   "language": "python",
   "name": "python3"
  },
  "language_info": {
   "codemirror_mode": {
    "name": "ipython",
    "version": 3
   },
   "file_extension": ".py",
   "mimetype": "text/x-python",
   "name": "python",
   "nbconvert_exporter": "python",
   "pygments_lexer": "ipython3",
   "version": "3.6.5"
  }
 },
 "nbformat": 4,
 "nbformat_minor": 2
}
